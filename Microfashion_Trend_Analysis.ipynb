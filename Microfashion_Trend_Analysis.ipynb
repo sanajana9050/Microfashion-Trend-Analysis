{
  "nbformat": 4,
  "nbformat_minor": 0,
  "metadata": {
    "colab": {
      "provenance": [],
      "toc_visible": true,
      "mount_file_id": "1z-KwgcOjhCE00mmr8i55W7HCV5r44UQ6",
      "authorship_tag": "ABX9TyM561uXVeEGINvDRLBrOcPU",
      "include_colab_link": true
    },
    "kernelspec": {
      "name": "python3",
      "display_name": "Python 3"
    },
    "language_info": {
      "name": "python"
    }
  },
  "cells": [
    {
      "cell_type": "markdown",
      "metadata": {
        "id": "view-in-github",
        "colab_type": "text"
      },
      "source": [
        "<a href=\"https://colab.research.google.com/github/sanajana9050/Microfashion-Trend-Analysis/blob/main/Microfashion_Trend_Analysis.ipynb\" target=\"_parent\"><img src=\"https://colab.research.google.com/assets/colab-badge.svg\" alt=\"Open In Colab\"/></a>"
      ]
    },
    {
      "cell_type": "markdown",
      "source": [
        "#**Importing necessary libraries**#\n",
        "##Mounting drive and fetching Reddit API##\n",
        "\n"
      ],
      "metadata": {
        "id": "-ji_VjcaMTkF"
      }
    },
    {
      "cell_type": "code",
      "source": [
        "from google.colab import drive\n",
        "drive.mount('/content/drive')"
      ],
      "metadata": {
        "colab": {
          "base_uri": "https://localhost:8080/"
        },
        "id": "G4w0Yh6SmlRv",
        "outputId": "631f8aa4-6f95-454c-a2fc-691f20625d11"
      },
      "execution_count": 1,
      "outputs": [
        {
          "output_type": "stream",
          "name": "stdout",
          "text": [
            "Mounted at /content/drive\n"
          ]
        }
      ]
    },
    {
      "cell_type": "code",
      "source": [
        "!pip install praw"
      ],
      "metadata": {
        "colab": {
          "base_uri": "https://localhost:8080/"
        },
        "id": "2z7lWA4pnTpC",
        "outputId": "2b5cf918-9254-4886-a3be-6a084fd8ce63"
      },
      "execution_count": 4,
      "outputs": [
        {
          "output_type": "stream",
          "name": "stdout",
          "text": [
            "Collecting praw\n",
            "  Downloading praw-7.7.1-py3-none-any.whl (191 kB)\n",
            "\u001b[2K     \u001b[90m━━━━━━━━━━━━━━━━━━━━━━━━━━━━━━━━━━━━━━━━\u001b[0m \u001b[32m191.0/191.0 kB\u001b[0m \u001b[31m1.7 MB/s\u001b[0m eta \u001b[36m0:00:00\u001b[0m\n",
            "\u001b[?25hCollecting prawcore<3,>=2.1 (from praw)\n",
            "  Downloading prawcore-2.4.0-py3-none-any.whl (17 kB)\n",
            "Collecting update-checker>=0.18 (from praw)\n",
            "  Downloading update_checker-0.18.0-py3-none-any.whl (7.0 kB)\n",
            "Requirement already satisfied: websocket-client>=0.54.0 in /usr/local/lib/python3.10/dist-packages (from praw) (1.8.0)\n",
            "Requirement already satisfied: requests<3.0,>=2.6.0 in /usr/local/lib/python3.10/dist-packages (from prawcore<3,>=2.1->praw) (2.31.0)\n",
            "Requirement already satisfied: charset-normalizer<4,>=2 in /usr/local/lib/python3.10/dist-packages (from requests<3.0,>=2.6.0->prawcore<3,>=2.1->praw) (3.3.2)\n",
            "Requirement already satisfied: idna<4,>=2.5 in /usr/local/lib/python3.10/dist-packages (from requests<3.0,>=2.6.0->prawcore<3,>=2.1->praw) (3.7)\n",
            "Requirement already satisfied: urllib3<3,>=1.21.1 in /usr/local/lib/python3.10/dist-packages (from requests<3.0,>=2.6.0->prawcore<3,>=2.1->praw) (2.0.7)\n",
            "Requirement already satisfied: certifi>=2017.4.17 in /usr/local/lib/python3.10/dist-packages (from requests<3.0,>=2.6.0->prawcore<3,>=2.1->praw) (2024.2.2)\n",
            "Installing collected packages: update-checker, prawcore, praw\n",
            "Successfully installed praw-7.7.1 prawcore-2.4.0 update-checker-0.18.0\n"
          ]
        }
      ]
    },
    {
      "cell_type": "markdown",
      "source": [
        "#**Scraping Reddit Comments from Subreddit**#"
      ],
      "metadata": {
        "id": "Si1dzqR_OvYP"
      }
    },
    {
      "cell_type": "code",
      "execution_count": 8,
      "metadata": {
        "id": "sOGrNZsBlel5",
        "colab": {
          "base_uri": "https://localhost:8080/"
        },
        "outputId": "60e7b8f6-1618-4c32-a2e9-6fa45dc904bc"
      },
      "outputs": [
        {
          "output_type": "stream",
          "name": "stdout",
          "text": [
            "Requirement already satisfied: openpyxl in /usr/local/lib/python3.10/dist-packages (3.1.3)\n",
            "Requirement already satisfied: et-xmlfile in /usr/local/lib/python3.10/dist-packages (from openpyxl) (1.1.0)\n"
          ]
        },
        {
          "output_type": "stream",
          "name": "stderr",
          "text": [
            "WARNING:praw:It appears that you are using PRAW in an asynchronous environment.\n",
            "It is strongly recommended to use Async PRAW: https://asyncpraw.readthedocs.io.\n",
            "See https://praw.readthedocs.io/en/latest/getting_started/multiple_instances.html#discord-bots-and-asynchronous-environments for more info.\n",
            "\n",
            "WARNING:praw:It appears that you are using PRAW in an asynchronous environment.\n",
            "It is strongly recommended to use Async PRAW: https://asyncpraw.readthedocs.io.\n",
            "See https://praw.readthedocs.io/en/latest/getting_started/multiple_instances.html#discord-bots-and-asynchronous-environments for more info.\n",
            "\n",
            "WARNING:praw:It appears that you are using PRAW in an asynchronous environment.\n",
            "It is strongly recommended to use Async PRAW: https://asyncpraw.readthedocs.io.\n",
            "See https://praw.readthedocs.io/en/latest/getting_started/multiple_instances.html#discord-bots-and-asynchronous-environments for more info.\n",
            "\n",
            "WARNING:praw:It appears that you are using PRAW in an asynchronous environment.\n",
            "It is strongly recommended to use Async PRAW: https://asyncpraw.readthedocs.io.\n",
            "See https://praw.readthedocs.io/en/latest/getting_started/multiple_instances.html#discord-bots-and-asynchronous-environments for more info.\n",
            "\n",
            "WARNING:praw:It appears that you are using PRAW in an asynchronous environment.\n",
            "It is strongly recommended to use Async PRAW: https://asyncpraw.readthedocs.io.\n",
            "See https://praw.readthedocs.io/en/latest/getting_started/multiple_instances.html#discord-bots-and-asynchronous-environments for more info.\n",
            "\n",
            "WARNING:praw:It appears that you are using PRAW in an asynchronous environment.\n",
            "It is strongly recommended to use Async PRAW: https://asyncpraw.readthedocs.io.\n",
            "See https://praw.readthedocs.io/en/latest/getting_started/multiple_instances.html#discord-bots-and-asynchronous-environments for more info.\n",
            "\n",
            "WARNING:praw:It appears that you are using PRAW in an asynchronous environment.\n",
            "It is strongly recommended to use Async PRAW: https://asyncpraw.readthedocs.io.\n",
            "See https://praw.readthedocs.io/en/latest/getting_started/multiple_instances.html#discord-bots-and-asynchronous-environments for more info.\n",
            "\n",
            "WARNING:praw:It appears that you are using PRAW in an asynchronous environment.\n",
            "It is strongly recommended to use Async PRAW: https://asyncpraw.readthedocs.io.\n",
            "See https://praw.readthedocs.io/en/latest/getting_started/multiple_instances.html#discord-bots-and-asynchronous-environments for more info.\n",
            "\n",
            "WARNING:praw:It appears that you are using PRAW in an asynchronous environment.\n",
            "It is strongly recommended to use Async PRAW: https://asyncpraw.readthedocs.io.\n",
            "See https://praw.readthedocs.io/en/latest/getting_started/multiple_instances.html#discord-bots-and-asynchronous-environments for more info.\n",
            "\n",
            "WARNING:praw:It appears that you are using PRAW in an asynchronous environment.\n",
            "It is strongly recommended to use Async PRAW: https://asyncpraw.readthedocs.io.\n",
            "See https://praw.readthedocs.io/en/latest/getting_started/multiple_instances.html#discord-bots-and-asynchronous-environments for more info.\n",
            "\n",
            "WARNING:praw:It appears that you are using PRAW in an asynchronous environment.\n",
            "It is strongly recommended to use Async PRAW: https://asyncpraw.readthedocs.io.\n",
            "See https://praw.readthedocs.io/en/latest/getting_started/multiple_instances.html#discord-bots-and-asynchronous-environments for more info.\n",
            "\n"
          ]
        }
      ],
      "source": [
        "!pip install openpyxl  # Install openpyxl for working with Excel files\n",
        "\n",
        "import praw\n",
        "import pandas as pd\n",
        "\n",
        "reddit = praw.Reddit(client_id='v8lmJTQnJUeaIobdevrxQA',\n",
        "                     client_secret='ov2Vo_egu0VkJMkZGnqpJPwE07Yd9w',\n",
        "                     user_agent='script by u/Just-Improvement-880')\n",
        "\n",
        "subreddit = reddit.subreddit('streetwear')\n",
        "\n",
        "comments = []\n",
        "for submission in subreddit.top(limit=10):\n",
        "    submission.comments.replace_more(limit=0)\n",
        "    for comment in submission.comments.list():\n",
        "        comments.append(comment.body)\n",
        "\n",
        "# Create DataFrame from the comments\n",
        "df = pd.DataFrame(comments, columns=['Comment'])\n",
        "\n",
        "# Remove duplicates and empty comments\n",
        "df.drop_duplicates(inplace=True)\n",
        "df = df[df['Comment'].str.strip().astype(bool)]\n",
        "\n",
        "# Save DataFrame to Excel file\n",
        "df.to_excel('reddit_comments.xlsx', index=False)\n"
      ]
    },
    {
      "cell_type": "code",
      "source": [
        "file_path = '/content/drive/MyDrive/microfashion trend analysis through reddit/reddit_comments.xlsx'\n",
        "\n",
        "# Save DataFrame to Excel file\n",
        "df.to_excel(file_path, index=False)"
      ],
      "metadata": {
        "id": "TmYzQlOMnQSr"
      },
      "execution_count": 10,
      "outputs": []
    },
    {
      "cell_type": "markdown",
      "source": [
        "#**Connecting SQL Database**#"
      ],
      "metadata": {
        "id": "6YTmuyfmO88I"
      }
    },
    {
      "cell_type": "code",
      "source": [
        "!pip install mysql-connector-python"
      ],
      "metadata": {
        "colab": {
          "base_uri": "https://localhost:8080/"
        },
        "id": "4yp9Bzuw5oli",
        "outputId": "a7db03c6-078e-4312-acf6-bdd6a8abe05e"
      },
      "execution_count": 24,
      "outputs": [
        {
          "output_type": "stream",
          "name": "stdout",
          "text": [
            "Requirement already satisfied: mysql-connector-python in /usr/local/lib/python3.10/dist-packages (8.4.0)\n"
          ]
        }
      ]
    },
    {
      "cell_type": "code",
      "source": [
        "!apt-get -y install mysql-server"
      ],
      "metadata": {
        "colab": {
          "base_uri": "https://localhost:8080/"
        },
        "id": "uOHYilZcu2Ei",
        "outputId": "76126cfc-ff7e-4fdc-b2eb-b4551b7417cb"
      },
      "execution_count": 25,
      "outputs": [
        {
          "output_type": "stream",
          "name": "stdout",
          "text": [
            "Reading package lists... Done\n",
            "Building dependency tree... Done\n",
            "Reading state information... Done\n",
            "The following additional packages will be installed:\n",
            "  libcgi-fast-perl libcgi-pm-perl libclone-perl libencode-locale-perl libfcgi-bin libfcgi-perl\n",
            "  libfcgi0ldbl libhtml-parser-perl libhtml-tagset-perl libhtml-template-perl libhttp-date-perl\n",
            "  libhttp-message-perl libio-html-perl liblwp-mediatypes-perl libmecab2 libprotobuf-lite23\n",
            "  liburi-perl mecab-ipadic mecab-ipadic-utf8 mecab-utils mysql-client-8.0 mysql-client-core-8.0\n",
            "  mysql-server-8.0 mysql-server-core-8.0\n",
            "Suggested packages:\n",
            "  libdata-dump-perl libipc-sharedcache-perl libbusiness-isbn-perl libwww-perl mailx tinyca\n",
            "The following NEW packages will be installed:\n",
            "  libcgi-fast-perl libcgi-pm-perl libclone-perl libencode-locale-perl libfcgi-bin libfcgi-perl\n",
            "  libfcgi0ldbl libhtml-parser-perl libhtml-tagset-perl libhtml-template-perl libhttp-date-perl\n",
            "  libhttp-message-perl libio-html-perl liblwp-mediatypes-perl libmecab2 libprotobuf-lite23\n",
            "  liburi-perl mecab-ipadic mecab-ipadic-utf8 mecab-utils mysql-client-8.0 mysql-client-core-8.0\n",
            "  mysql-server mysql-server-8.0 mysql-server-core-8.0\n",
            "0 upgraded, 25 newly installed, 0 to remove and 45 not upgraded.\n",
            "Need to get 29.4 MB of archives.\n",
            "After this operation, 243 MB of additional disk space will be used.\n",
            "Get:1 http://archive.ubuntu.com/ubuntu jammy-updates/main amd64 mysql-client-core-8.0 amd64 8.0.36-0ubuntu0.22.04.1 [2,692 kB]\n",
            "Get:2 http://archive.ubuntu.com/ubuntu jammy-updates/main amd64 mysql-client-8.0 amd64 8.0.36-0ubuntu0.22.04.1 [22.7 kB]\n",
            "Get:3 http://archive.ubuntu.com/ubuntu jammy/main amd64 libmecab2 amd64 0.996-14build9 [199 kB]\n",
            "Get:4 http://archive.ubuntu.com/ubuntu jammy-updates/main amd64 libprotobuf-lite23 amd64 3.12.4-1ubuntu7.22.04.1 [209 kB]\n",
            "Get:5 http://archive.ubuntu.com/ubuntu jammy-updates/main amd64 mysql-server-core-8.0 amd64 8.0.36-0ubuntu0.22.04.1 [17.5 MB]\n",
            "Get:6 http://archive.ubuntu.com/ubuntu jammy-updates/main amd64 mysql-server-8.0 amd64 8.0.36-0ubuntu0.22.04.1 [1,437 kB]\n",
            "Get:7 http://archive.ubuntu.com/ubuntu jammy/main amd64 libhtml-tagset-perl all 3.20-4 [12.5 kB]\n",
            "Get:8 http://archive.ubuntu.com/ubuntu jammy/main amd64 liburi-perl all 5.10-1 [78.8 kB]\n",
            "Get:9 http://archive.ubuntu.com/ubuntu jammy/main amd64 libhtml-parser-perl amd64 3.76-1build2 [88.4 kB]\n",
            "Get:10 http://archive.ubuntu.com/ubuntu jammy/main amd64 libcgi-pm-perl all 4.54-1 [188 kB]\n",
            "Get:11 http://archive.ubuntu.com/ubuntu jammy/main amd64 libfcgi0ldbl amd64 2.4.2-2build2 [28.0 kB]\n",
            "Get:12 http://archive.ubuntu.com/ubuntu jammy/main amd64 libfcgi-perl amd64 0.82+ds-1build1 [22.8 kB]\n",
            "Get:13 http://archive.ubuntu.com/ubuntu jammy/main amd64 libcgi-fast-perl all 1:2.15-1 [10.5 kB]\n",
            "Get:14 http://archive.ubuntu.com/ubuntu jammy/main amd64 libclone-perl amd64 0.45-1build3 [11.0 kB]\n",
            "Get:15 http://archive.ubuntu.com/ubuntu jammy/main amd64 libencode-locale-perl all 1.05-1.1 [11.8 kB]\n",
            "Get:16 http://archive.ubuntu.com/ubuntu jammy/main amd64 libfcgi-bin amd64 2.4.2-2build2 [11.2 kB]\n",
            "Get:17 http://archive.ubuntu.com/ubuntu jammy/main amd64 libhtml-template-perl all 2.97-1.1 [59.1 kB]\n",
            "Get:18 http://archive.ubuntu.com/ubuntu jammy/main amd64 libhttp-date-perl all 6.05-1 [9,920 B]\n",
            "Get:19 http://archive.ubuntu.com/ubuntu jammy/main amd64 libio-html-perl all 1.004-2 [15.4 kB]\n",
            "Get:20 http://archive.ubuntu.com/ubuntu jammy/main amd64 liblwp-mediatypes-perl all 6.04-1 [19.5 kB]\n",
            "Get:21 http://archive.ubuntu.com/ubuntu jammy/main amd64 libhttp-message-perl all 6.36-1 [76.8 kB]\n",
            "Get:22 http://archive.ubuntu.com/ubuntu jammy/main amd64 mecab-utils amd64 0.996-14build9 [4,850 B]\n",
            "Get:23 http://archive.ubuntu.com/ubuntu jammy/main amd64 mecab-ipadic all 2.7.0-20070801+main-3 [6,718 kB]\n",
            "Get:24 http://archive.ubuntu.com/ubuntu jammy/main amd64 mecab-ipadic-utf8 all 2.7.0-20070801+main-3 [4,384 B]\n",
            "Get:25 http://archive.ubuntu.com/ubuntu jammy-updates/main amd64 mysql-server all 8.0.36-0ubuntu0.22.04.1 [9,460 B]\n",
            "Fetched 29.4 MB in 1s (20.8 MB/s)\n",
            "Preconfiguring packages ...\n",
            "Selecting previously unselected package mysql-client-core-8.0.\n",
            "(Reading database ... 121918 files and directories currently installed.)\n",
            "Preparing to unpack .../00-mysql-client-core-8.0_8.0.36-0ubuntu0.22.04.1_amd64.deb ...\n",
            "Unpacking mysql-client-core-8.0 (8.0.36-0ubuntu0.22.04.1) ...\n",
            "Selecting previously unselected package mysql-client-8.0.\n",
            "Preparing to unpack .../01-mysql-client-8.0_8.0.36-0ubuntu0.22.04.1_amd64.deb ...\n",
            "Unpacking mysql-client-8.0 (8.0.36-0ubuntu0.22.04.1) ...\n",
            "Selecting previously unselected package libmecab2:amd64.\n",
            "Preparing to unpack .../02-libmecab2_0.996-14build9_amd64.deb ...\n",
            "Unpacking libmecab2:amd64 (0.996-14build9) ...\n",
            "Selecting previously unselected package libprotobuf-lite23:amd64.\n",
            "Preparing to unpack .../03-libprotobuf-lite23_3.12.4-1ubuntu7.22.04.1_amd64.deb ...\n",
            "Unpacking libprotobuf-lite23:amd64 (3.12.4-1ubuntu7.22.04.1) ...\n",
            "Selecting previously unselected package mysql-server-core-8.0.\n",
            "Preparing to unpack .../04-mysql-server-core-8.0_8.0.36-0ubuntu0.22.04.1_amd64.deb ...\n",
            "Unpacking mysql-server-core-8.0 (8.0.36-0ubuntu0.22.04.1) ...\n",
            "Selecting previously unselected package mysql-server-8.0.\n",
            "Preparing to unpack .../05-mysql-server-8.0_8.0.36-0ubuntu0.22.04.1_amd64.deb ...\n",
            "Unpacking mysql-server-8.0 (8.0.36-0ubuntu0.22.04.1) ...\n",
            "Selecting previously unselected package libhtml-tagset-perl.\n",
            "Preparing to unpack .../06-libhtml-tagset-perl_3.20-4_all.deb ...\n",
            "Unpacking libhtml-tagset-perl (3.20-4) ...\n",
            "Selecting previously unselected package liburi-perl.\n",
            "Preparing to unpack .../07-liburi-perl_5.10-1_all.deb ...\n",
            "Unpacking liburi-perl (5.10-1) ...\n",
            "Selecting previously unselected package libhtml-parser-perl:amd64.\n",
            "Preparing to unpack .../08-libhtml-parser-perl_3.76-1build2_amd64.deb ...\n",
            "Unpacking libhtml-parser-perl:amd64 (3.76-1build2) ...\n",
            "Selecting previously unselected package libcgi-pm-perl.\n",
            "Preparing to unpack .../09-libcgi-pm-perl_4.54-1_all.deb ...\n",
            "Unpacking libcgi-pm-perl (4.54-1) ...\n",
            "Selecting previously unselected package libfcgi0ldbl:amd64.\n",
            "Preparing to unpack .../10-libfcgi0ldbl_2.4.2-2build2_amd64.deb ...\n",
            "Unpacking libfcgi0ldbl:amd64 (2.4.2-2build2) ...\n",
            "Selecting previously unselected package libfcgi-perl:amd64.\n",
            "Preparing to unpack .../11-libfcgi-perl_0.82+ds-1build1_amd64.deb ...\n",
            "Unpacking libfcgi-perl:amd64 (0.82+ds-1build1) ...\n",
            "Selecting previously unselected package libcgi-fast-perl.\n",
            "Preparing to unpack .../12-libcgi-fast-perl_1%3a2.15-1_all.deb ...\n",
            "Unpacking libcgi-fast-perl (1:2.15-1) ...\n",
            "Selecting previously unselected package libclone-perl.\n",
            "Preparing to unpack .../13-libclone-perl_0.45-1build3_amd64.deb ...\n",
            "Unpacking libclone-perl (0.45-1build3) ...\n",
            "Selecting previously unselected package libencode-locale-perl.\n",
            "Preparing to unpack .../14-libencode-locale-perl_1.05-1.1_all.deb ...\n",
            "Unpacking libencode-locale-perl (1.05-1.1) ...\n",
            "Selecting previously unselected package libfcgi-bin.\n",
            "Preparing to unpack .../15-libfcgi-bin_2.4.2-2build2_amd64.deb ...\n",
            "Unpacking libfcgi-bin (2.4.2-2build2) ...\n",
            "Selecting previously unselected package libhtml-template-perl.\n",
            "Preparing to unpack .../16-libhtml-template-perl_2.97-1.1_all.deb ...\n",
            "Unpacking libhtml-template-perl (2.97-1.1) ...\n",
            "Selecting previously unselected package libhttp-date-perl.\n",
            "Preparing to unpack .../17-libhttp-date-perl_6.05-1_all.deb ...\n",
            "Unpacking libhttp-date-perl (6.05-1) ...\n",
            "Selecting previously unselected package libio-html-perl.\n",
            "Preparing to unpack .../18-libio-html-perl_1.004-2_all.deb ...\n",
            "Unpacking libio-html-perl (1.004-2) ...\n",
            "Selecting previously unselected package liblwp-mediatypes-perl.\n",
            "Preparing to unpack .../19-liblwp-mediatypes-perl_6.04-1_all.deb ...\n",
            "Unpacking liblwp-mediatypes-perl (6.04-1) ...\n",
            "Selecting previously unselected package libhttp-message-perl.\n",
            "Preparing to unpack .../20-libhttp-message-perl_6.36-1_all.deb ...\n",
            "Unpacking libhttp-message-perl (6.36-1) ...\n",
            "Selecting previously unselected package mecab-utils.\n",
            "Preparing to unpack .../21-mecab-utils_0.996-14build9_amd64.deb ...\n",
            "Unpacking mecab-utils (0.996-14build9) ...\n",
            "Selecting previously unselected package mecab-ipadic.\n",
            "Preparing to unpack .../22-mecab-ipadic_2.7.0-20070801+main-3_all.deb ...\n",
            "Unpacking mecab-ipadic (2.7.0-20070801+main-3) ...\n",
            "Selecting previously unselected package mecab-ipadic-utf8.\n",
            "Preparing to unpack .../23-mecab-ipadic-utf8_2.7.0-20070801+main-3_all.deb ...\n",
            "Unpacking mecab-ipadic-utf8 (2.7.0-20070801+main-3) ...\n",
            "Selecting previously unselected package mysql-server.\n",
            "Preparing to unpack .../24-mysql-server_8.0.36-0ubuntu0.22.04.1_all.deb ...\n",
            "Unpacking mysql-server (8.0.36-0ubuntu0.22.04.1) ...\n",
            "Setting up libhttp-date-perl (6.05-1) ...\n",
            "Setting up libmecab2:amd64 (0.996-14build9) ...\n",
            "Setting up mysql-client-core-8.0 (8.0.36-0ubuntu0.22.04.1) ...\n",
            "Setting up libfcgi0ldbl:amd64 (2.4.2-2build2) ...\n",
            "Setting up libclone-perl (0.45-1build3) ...\n",
            "Setting up libhtml-tagset-perl (3.20-4) ...\n",
            "Setting up liblwp-mediatypes-perl (6.04-1) ...\n",
            "Setting up libfcgi-bin (2.4.2-2build2) ...\n",
            "Setting up libencode-locale-perl (1.05-1.1) ...\n",
            "Setting up libprotobuf-lite23:amd64 (3.12.4-1ubuntu7.22.04.1) ...\n",
            "Setting up mecab-utils (0.996-14build9) ...\n",
            "Setting up libio-html-perl (1.004-2) ...\n",
            "Setting up mysql-server-core-8.0 (8.0.36-0ubuntu0.22.04.1) ...\n",
            "Setting up mysql-client-8.0 (8.0.36-0ubuntu0.22.04.1) ...\n",
            "Setting up libfcgi-perl:amd64 (0.82+ds-1build1) ...\n",
            "Setting up liburi-perl (5.10-1) ...\n",
            "Setting up libhttp-message-perl (6.36-1) ...\n",
            "Setting up mysql-server-8.0 (8.0.36-0ubuntu0.22.04.1) ...\n",
            "invoke-rc.d: could not determine current runlevel\n",
            "invoke-rc.d: policy-rc.d denied execution of stop.\n",
            "update-alternatives: using /etc/mysql/mysql.cnf to provide /etc/mysql/my.cnf (my.cnf) in auto mode\n",
            "Renaming removed key_buffer and myisam-recover options (if present)\n",
            "mysqld will log errors to /var/log/mysql/error.log\n",
            "mysqld is running as pid 21848\n",
            "Created symlink /etc/systemd/system/multi-user.target.wants/mysql.service → /lib/systemd/system/mysql.service.\n",
            "invoke-rc.d: could not determine current runlevel\n",
            "invoke-rc.d: policy-rc.d denied execution of start.\n",
            "Setting up mecab-ipadic (2.7.0-20070801+main-3) ...\n",
            "Compiling IPA dictionary for Mecab.  This takes long time...\n",
            "reading /usr/share/mecab/dic/ipadic/unk.def ... 40\n",
            "emitting double-array: 100% |###########################################| \n",
            "/usr/share/mecab/dic/ipadic/model.def is not found. skipped.\n",
            "reading /usr/share/mecab/dic/ipadic/Noun.adverbal.csv ... 795\n",
            "reading /usr/share/mecab/dic/ipadic/Noun.proper.csv ... 27328\n",
            "reading /usr/share/mecab/dic/ipadic/Conjunction.csv ... 171\n",
            "reading /usr/share/mecab/dic/ipadic/Adj.csv ... 27210\n",
            "reading /usr/share/mecab/dic/ipadic/Others.csv ... 2\n",
            "reading /usr/share/mecab/dic/ipadic/Prefix.csv ... 221\n",
            "reading /usr/share/mecab/dic/ipadic/Auxil.csv ... 199\n",
            "reading /usr/share/mecab/dic/ipadic/Noun.number.csv ... 42\n",
            "reading /usr/share/mecab/dic/ipadic/Noun.nai.csv ... 42\n",
            "reading /usr/share/mecab/dic/ipadic/Noun.place.csv ... 72999\n",
            "reading /usr/share/mecab/dic/ipadic/Filler.csv ... 19\n",
            "reading /usr/share/mecab/dic/ipadic/Noun.others.csv ... 151\n",
            "reading /usr/share/mecab/dic/ipadic/Postp.csv ... 146\n",
            "reading /usr/share/mecab/dic/ipadic/Symbol.csv ... 208\n",
            "reading /usr/share/mecab/dic/ipadic/Suffix.csv ... 1393\n",
            "reading /usr/share/mecab/dic/ipadic/Interjection.csv ... 252\n",
            "reading /usr/share/mecab/dic/ipadic/Noun.adjv.csv ... 3328\n",
            "reading /usr/share/mecab/dic/ipadic/Verb.csv ... 130750\n",
            "reading /usr/share/mecab/dic/ipadic/Adverb.csv ... 3032\n",
            "reading /usr/share/mecab/dic/ipadic/Noun.verbal.csv ... 12146\n",
            "reading /usr/share/mecab/dic/ipadic/Noun.name.csv ... 34202\n",
            "reading /usr/share/mecab/dic/ipadic/Adnominal.csv ... 135\n",
            "reading /usr/share/mecab/dic/ipadic/Noun.csv ... 60477\n",
            "reading /usr/share/mecab/dic/ipadic/Noun.demonst.csv ... 120\n",
            "reading /usr/share/mecab/dic/ipadic/Postp-col.csv ... 91\n",
            "reading /usr/share/mecab/dic/ipadic/Noun.org.csv ... 16668\n",
            "emitting double-array: 100% |###########################################| \n",
            "reading /usr/share/mecab/dic/ipadic/matrix.def ... 1316x1316\n",
            "emitting matrix      : 100% |###########################################| \n",
            "\n",
            "done!\n",
            "update-alternatives: using /var/lib/mecab/dic/ipadic to provide /var/lib/mecab/dic/debian (mecab-dictionary) in auto mode\n",
            "Setting up mecab-ipadic-utf8 (2.7.0-20070801+main-3) ...\n",
            "Compiling IPA dictionary for Mecab.  This takes long time...\n",
            "reading /usr/share/mecab/dic/ipadic/unk.def ... 40\n",
            "emitting double-array: 100% |###########################################| \n",
            "/usr/share/mecab/dic/ipadic/model.def is not found. skipped.\n",
            "reading /usr/share/mecab/dic/ipadic/Noun.adverbal.csv ... 795\n",
            "reading /usr/share/mecab/dic/ipadic/Noun.proper.csv ... 27328\n",
            "reading /usr/share/mecab/dic/ipadic/Conjunction.csv ... 171\n",
            "reading /usr/share/mecab/dic/ipadic/Adj.csv ... 27210\n",
            "reading /usr/share/mecab/dic/ipadic/Others.csv ... 2\n",
            "reading /usr/share/mecab/dic/ipadic/Prefix.csv ... 221\n",
            "reading /usr/share/mecab/dic/ipadic/Auxil.csv ... 199\n",
            "reading /usr/share/mecab/dic/ipadic/Noun.number.csv ... 42\n",
            "reading /usr/share/mecab/dic/ipadic/Noun.nai.csv ... 42\n",
            "reading /usr/share/mecab/dic/ipadic/Noun.place.csv ... 72999\n",
            "reading /usr/share/mecab/dic/ipadic/Filler.csv ... 19\n",
            "reading /usr/share/mecab/dic/ipadic/Noun.others.csv ... 151\n",
            "reading /usr/share/mecab/dic/ipadic/Postp.csv ... 146\n",
            "reading /usr/share/mecab/dic/ipadic/Symbol.csv ... 208\n",
            "reading /usr/share/mecab/dic/ipadic/Suffix.csv ... 1393\n",
            "reading /usr/share/mecab/dic/ipadic/Interjection.csv ... 252\n",
            "reading /usr/share/mecab/dic/ipadic/Noun.adjv.csv ... 3328\n",
            "reading /usr/share/mecab/dic/ipadic/Verb.csv ... 130750\n",
            "reading /usr/share/mecab/dic/ipadic/Adverb.csv ... 3032\n",
            "reading /usr/share/mecab/dic/ipadic/Noun.verbal.csv ... 12146\n",
            "reading /usr/share/mecab/dic/ipadic/Noun.name.csv ... 34202\n",
            "reading /usr/share/mecab/dic/ipadic/Adnominal.csv ... 135\n",
            "reading /usr/share/mecab/dic/ipadic/Noun.csv ... 60477\n",
            "reading /usr/share/mecab/dic/ipadic/Noun.demonst.csv ... 120\n",
            "reading /usr/share/mecab/dic/ipadic/Postp-col.csv ... 91\n",
            "reading /usr/share/mecab/dic/ipadic/Noun.org.csv ... 16668\n",
            "emitting double-array: 100% |###########################################| \n",
            "reading /usr/share/mecab/dic/ipadic/matrix.def ... 1316x1316\n",
            "emitting matrix      : 100% |###########################################| \n",
            "\n",
            "done!\n",
            "update-alternatives: using /var/lib/mecab/dic/ipadic-utf8 to provide /var/lib/mecab/dic/debian (mecab-dictionary) in auto mode\n",
            "Setting up libhtml-parser-perl:amd64 (3.76-1build2) ...\n",
            "Setting up mysql-server (8.0.36-0ubuntu0.22.04.1) ...\n",
            "Setting up libcgi-pm-perl (4.54-1) ...\n",
            "Setting up libhtml-template-perl (2.97-1.1) ...\n",
            "Setting up libcgi-fast-perl (1:2.15-1) ...\n",
            "Processing triggers for man-db (2.10.2-1) ...\n",
            "Processing triggers for libc-bin (2.35-0ubuntu3.4) ...\n",
            "/sbin/ldconfig.real: /usr/local/lib/libtbbmalloc.so.2 is not a symbolic link\n",
            "\n",
            "/sbin/ldconfig.real: /usr/local/lib/libtbbbind_2_5.so.3 is not a symbolic link\n",
            "\n",
            "/sbin/ldconfig.real: /usr/local/lib/libtbbbind_2_0.so.3 is not a symbolic link\n",
            "\n",
            "/sbin/ldconfig.real: /usr/local/lib/libtbbbind.so.3 is not a symbolic link\n",
            "\n",
            "/sbin/ldconfig.real: /usr/local/lib/libtbb.so.12 is not a symbolic link\n",
            "\n",
            "/sbin/ldconfig.real: /usr/local/lib/libtbbmalloc_proxy.so.2 is not a symbolic link\n",
            "\n"
          ]
        }
      ]
    },
    {
      "cell_type": "code",
      "source": [
        "!service mysql start"
      ],
      "metadata": {
        "colab": {
          "base_uri": "https://localhost:8080/"
        },
        "id": "HiQTiAHY6DM4",
        "outputId": "296c3048-2494-4ecc-e25a-86d6175b52c5"
      },
      "execution_count": 26,
      "outputs": [
        {
          "output_type": "stream",
          "name": "stdout",
          "text": [
            " * Starting MySQL database server mysqld\n",
            "su: warning: cannot change directory to /nonexistent: No such file or directory\n",
            "   ...done.\n"
          ]
        }
      ]
    },
    {
      "cell_type": "code",
      "source": [
        "!mysql -e \"ALTER USER 'root'@'localhost' IDENTIFIED WITH 'mysql_native_password' BY 'root';FLUSH PRIVILEGES;\""
      ],
      "metadata": {
        "id": "mkn1F_yb6Gw-"
      },
      "execution_count": 27,
      "outputs": []
    },
    {
      "cell_type": "code",
      "source": [
        "import mysql.connector\n",
        "\n",
        "# Create a connection to the MySQL server\n",
        "conn = mysql.connector.connect(user='root', password='root', host='localhost')\n",
        "\n",
        "# Create a cursor to interact with the MySQL server\n",
        "cursor = conn.cursor()"
      ],
      "metadata": {
        "id": "0l4ncrJI6SHP"
      },
      "execution_count": 28,
      "outputs": []
    },
    {
      "cell_type": "code",
      "source": [
        "import mysql.connector\n",
        "import pandas as pd\n",
        "\n",
        "# Read data from Excel into DataFrame\n",
        "df = pd.read_excel('reddit_comments.xlsx')\n",
        "\n",
        "# Create a connection to the MySQL server\n",
        "conn = mysql.connector.connect(user='root', password='root', host='localhost')\n",
        "\n",
        "# Create a cursor to interact with the MySQL server\n",
        "cursor = conn.cursor()\n",
        "\n",
        "# Create the database if it doesn't exist\n",
        "cursor.execute(\"CREATE DATABASE IF NOT EXISTS reddit_data\")\n",
        "\n",
        "# Switch to the database\n",
        "cursor.execute(\"USE reddit_data\")\n",
        "\n",
        "# Create a table to store comments in MySQL\n",
        "create_table_query = '''\n",
        "CREATE TABLE IF NOT EXISTS reddit_comments (\n",
        "    id INT AUTO_INCREMENT PRIMARY KEY,\n",
        "    comment TEXT\n",
        ")\n",
        "'''\n",
        "cursor.execute(create_table_query)\n",
        "\n",
        "# Insert comments into MySQL table using parameterized query\n",
        "insert_query = \"INSERT INTO reddit_comments (comment) VALUES (%s)\"\n",
        "for index, row in df.iterrows():\n",
        "    comment = row['Comment']\n",
        "    cursor.execute(insert_query, (comment,))\n",
        "\n",
        "# Commit changes and close connection\n",
        "conn.commit()\n",
        "conn.close()\n",
        "\n"
      ],
      "metadata": {
        "id": "sjR7whzc6V2Z"
      },
      "execution_count": 34,
      "outputs": []
    },
    {
      "cell_type": "markdown",
      "source": [
        "#**Data Cleaning**#"
      ],
      "metadata": {
        "id": "nhjH17-rPTPn"
      }
    },
    {
      "cell_type": "code",
      "source": [
        "from google.colab import drive\n",
        "drive.mount('/content/drive')\n",
        "import praw\n",
        "import pandas as pd\n",
        "import re\n",
        "\n",
        "reddit = praw.Reddit(client_id='v8lmJTQnJUeaIobdevrxQA',\n",
        "                     client_secret='ov2Vo_egu0VkJMkZGnqpJPwE07Yd9w',\n",
        "                     user_agent='script by u/Just-Improvement-880')\n",
        "\n",
        "subreddit = reddit.subreddit('streetwear')\n",
        "\n",
        "comments = []\n",
        "for submission in subreddit.top(limit=10):\n",
        "    submission.comments.replace_more(limit=0)\n",
        "    for comment in submission.comments.list():\n",
        "        comments.append(comment.body)\n",
        "\n",
        "# Create DataFrame from the comments\n",
        "df = pd.DataFrame(comments, columns=['Comment'])\n",
        "\n",
        "# Remove duplicates and empty comments\n",
        "df.drop_duplicates(inplace=True)\n",
        "df = df[df['Comment'].str.strip().astype(bool)]\n",
        "\n",
        "# Save DataFrame to Excel file\n",
        "df.to_excel('reddit_comments.xlsx', index=False)\n",
        "\n",
        "\n",
        "# Read data from Excel into DataFrame\n",
        "# Replace 'reddit_comments.xls' with the filename of your Excel file\n",
        "df = pd.read_excel('reddit_comments.xlsx')\n",
        "\n",
        "# Sample comments from the 'reddit_comments' DataFrame\n",
        "comments = df['Comment']\n",
        "\n",
        "# Define regular expressions patterns for age and location extraction\n",
        "age_pattern = r'\\b(?:age|old|yo|years? old|turning)\\s*(\\d{1,2})\\b'\n",
        "location_pattern = r'\\b(?:location|hometown|reside|live in|from)\\s*[:,]?\\s*(\\b[A-Z][a-z]*(?:\\s+[A-Z][a-z]*)*(?:,\\s+[A-Z]{2})?)\\b'\n",
        "\n",
        "# Extract age and location information from comments\n",
        "age_matches = [re.findall(age_pattern, str(comment), re.IGNORECASE) for comment in comments]\n",
        "location_matches = [re.findall(location_pattern, str(comment), re.IGNORECASE) for comment in comments]\n",
        "\n",
        "# Flatten lists of matches\n",
        "age_info = [int(age) for sublist in age_matches for age in sublist if age.isdigit()]\n",
        "location_info = [location for sublist in location_matches for location in sublist]\n",
        "\n",
        "# Print extracted age and location information\n",
        "print(\"Extracted Age Information:\", age_info)\n",
        "print(\"Extracted Location Information:\", location_info)\n",
        "\n",
        "file_path = '/content/drive/MyDrive/microfashion trend analysis through reddit/reddit_comments.xlsx'\n",
        "\n",
        "# Save DataFrame to Excel file\n",
        "df.to_excel(file_path, index=False)"
      ],
      "metadata": {
        "colab": {
          "base_uri": "https://localhost:8080/"
        },
        "id": "D8KrZyoM-iCD",
        "outputId": "11d2e03f-86ec-4084-d90b-f1a4aa1b6552"
      },
      "execution_count": 44,
      "outputs": [
        {
          "output_type": "stream",
          "name": "stderr",
          "text": [
            "WARNING:praw:It appears that you are using PRAW in an asynchronous environment.\n",
            "It is strongly recommended to use Async PRAW: https://asyncpraw.readthedocs.io.\n",
            "See https://praw.readthedocs.io/en/latest/getting_started/multiple_instances.html#discord-bots-and-asynchronous-environments for more info.\n",
            "\n"
          ]
        },
        {
          "output_type": "stream",
          "name": "stdout",
          "text": [
            "Drive already mounted at /content/drive; to attempt to forcibly remount, call drive.mount(\"/content/drive\", force_remount=True).\n"
          ]
        },
        {
          "output_type": "stream",
          "name": "stderr",
          "text": [
            "WARNING:praw:It appears that you are using PRAW in an asynchronous environment.\n",
            "It is strongly recommended to use Async PRAW: https://asyncpraw.readthedocs.io.\n",
            "See https://praw.readthedocs.io/en/latest/getting_started/multiple_instances.html#discord-bots-and-asynchronous-environments for more info.\n",
            "\n",
            "WARNING:praw:It appears that you are using PRAW in an asynchronous environment.\n",
            "It is strongly recommended to use Async PRAW: https://asyncpraw.readthedocs.io.\n",
            "See https://praw.readthedocs.io/en/latest/getting_started/multiple_instances.html#discord-bots-and-asynchronous-environments for more info.\n",
            "\n",
            "WARNING:praw:It appears that you are using PRAW in an asynchronous environment.\n",
            "It is strongly recommended to use Async PRAW: https://asyncpraw.readthedocs.io.\n",
            "See https://praw.readthedocs.io/en/latest/getting_started/multiple_instances.html#discord-bots-and-asynchronous-environments for more info.\n",
            "\n",
            "WARNING:praw:It appears that you are using PRAW in an asynchronous environment.\n",
            "It is strongly recommended to use Async PRAW: https://asyncpraw.readthedocs.io.\n",
            "See https://praw.readthedocs.io/en/latest/getting_started/multiple_instances.html#discord-bots-and-asynchronous-environments for more info.\n",
            "\n",
            "WARNING:praw:It appears that you are using PRAW in an asynchronous environment.\n",
            "It is strongly recommended to use Async PRAW: https://asyncpraw.readthedocs.io.\n",
            "See https://praw.readthedocs.io/en/latest/getting_started/multiple_instances.html#discord-bots-and-asynchronous-environments for more info.\n",
            "\n",
            "WARNING:praw:It appears that you are using PRAW in an asynchronous environment.\n",
            "It is strongly recommended to use Async PRAW: https://asyncpraw.readthedocs.io.\n",
            "See https://praw.readthedocs.io/en/latest/getting_started/multiple_instances.html#discord-bots-and-asynchronous-environments for more info.\n",
            "\n",
            "WARNING:praw:It appears that you are using PRAW in an asynchronous environment.\n",
            "It is strongly recommended to use Async PRAW: https://asyncpraw.readthedocs.io.\n",
            "See https://praw.readthedocs.io/en/latest/getting_started/multiple_instances.html#discord-bots-and-asynchronous-environments for more info.\n",
            "\n",
            "WARNING:praw:It appears that you are using PRAW in an asynchronous environment.\n",
            "It is strongly recommended to use Async PRAW: https://asyncpraw.readthedocs.io.\n",
            "See https://praw.readthedocs.io/en/latest/getting_started/multiple_instances.html#discord-bots-and-asynchronous-environments for more info.\n",
            "\n",
            "WARNING:praw:It appears that you are using PRAW in an asynchronous environment.\n",
            "It is strongly recommended to use Async PRAW: https://asyncpraw.readthedocs.io.\n",
            "See https://praw.readthedocs.io/en/latest/getting_started/multiple_instances.html#discord-bots-and-asynchronous-environments for more info.\n",
            "\n",
            "WARNING:praw:It appears that you are using PRAW in an asynchronous environment.\n",
            "It is strongly recommended to use Async PRAW: https://asyncpraw.readthedocs.io.\n",
            "See https://praw.readthedocs.io/en/latest/getting_started/multiple_instances.html#discord-bots-and-asynchronous-environments for more info.\n",
            "\n"
          ]
        },
        {
          "output_type": "stream",
          "name": "stdout",
          "text": [
            "Extracted Age Information: [25, 60]\n",
            "Extracted Location Information: ['now on', 'another place on reddit', 'an anatomical standpoint shouldn', 'a local store', 'wearing skirts', 'wearing pretty much anything except skirts and pants', 'charity shops because money', 'back home complimented me on my guts for wearing such a sweater', 'Pink', 'a girl', 'gap', 'them and they are phenomenal', 'wearing kilts', 'Bob', 'a hot country but from Norway', 'the men', 'the women section i always just imagine i', 'just above, to', 'home', 'my experience they don', 'the comments no Scots will be mad at me', 'utilikilts', 'uniqlo and bonobos to have no issue with that', 'you being yourself, it', 'my car', 'wearing any color', 'thrift stores', 'living true to yourself', 'itching', 'Shia LaBeouf', 'his hometown', 'Frank', 'an adult wearing a', 'Punch Drunk love in the photo', 'like', 'my local Kmart', 'Walmart and look fine', 'his yearbook has be posted on reddit a BUNCH', 'previous decades', 'a story someone else posted about Keanu Reeves\\n\\nEdit', 'co', 'a metro area and don', 'some of the shoes people pay', 'my hands', 'TW', 'when he helped build the Apollo', 'Melrose', 'the GAP', 'the last festival he went to', 'a place of mild insecurity about actually', 'the crowd', 'To Catch A Predator', 'r', 'middle school', 'my dad', 'old', 'BPT', 'florida', 'various people', 'being occupied by the Nazis in', 'people who wear khakis and a button', 'the right too', 'another place on reddit', 'unbreakable kimmy schmidt', 'those', 'TheReportOfTheWeek, he', 'r', 'watches but the shoe bracelet is pretty on point', 'this sub', 'my family', 'the daily show', 'all', 'China for', 'THE DAILY SHOW UP HERE', 'ppl who think this is streetwear haha', 'the', 'the', 'a tree', 'THE', 'THE', 'A TREE', 'nowhere dirt land', 'thousands of miles away', 'television', 'you', 'now until the end of forever', 'a movie or some shit I feel like I just heard this', 'the heart', 'completely different places whose names I don', 'others', 'The Room', 'the base or the shaft', 'the top you', 'the English idiom', 'the Blizzard site', 'australia', 'cali ur standards for cold are low\\n\\nlower than', 'a country where it', 'him I', 'your sneakers', 'singapore too', 'the american south and I can', 'a Australian', 'that it ranges anywhere from', 'one shade to the next as quickly as you fucking can', 'Australia is not', 'the elderly', 'Grampa', 'the wireless future', 'Aesop Rock', 'the mid', 'Mainz', 'a single shot', 'the normcore trendies that rule this sub', 'him', 'the front', 'Target the other day to a bar and a bunch of girls invited me to drink with them and bought me shots lol', 'there as things do on the internet', 'the start', 'the start', 'an iPhone', 'Washington State so I guess I', 'a couple of years ago', 'punisher season', 'banging the door and said', 'NYC and can be walking around Soho and still won', 'the', 'getting soaked', 'a windbreaker', 'h', 'forming on the inside of the jacket', 'the UK too', 'your body not getting soaking wet while the coat keeps the wind', 'a', 'where I purchased it', 'local terminology', 'more angles', 'archer', 'this specific angle', 'top to bottom down the sole when looking at it from any other perspective', 'my experience', 'this exact angle, so', 'this exact angle', 'above', 'a specific angle', 'time to time while browsing', 'this conversation', 'SF and can confirm asain hype beast dress like this', 'the nobody', 'Shia Lebouf lol', 'the anime has bugs under his clothing and throughout his body', 'the fact that the employer believes the credential is positively correlated with having greater ability and difficult for low ability employees to obtain', 'high ability workers', 'throwing to just meaning anything', 'the end of shippuden to keep people intersted']\n"
          ]
        }
      ]
    },
    {
      "cell_type": "markdown",
      "source": [
        "#**Extracting Age and Location from the comments**#"
      ],
      "metadata": {
        "id": "7YuuXh7EPaD7"
      }
    },
    {
      "cell_type": "code",
      "source": [
        "from google.colab import drive\n",
        "import praw\n",
        "import pandas as pd\n",
        "import re\n",
        "\n",
        "# Mount Google Drive\n",
        "drive.mount('/content/drive')\n",
        "\n",
        "# Initialize Reddit instance\n",
        "reddit = praw.Reddit(client_id='v8lmJTQnJUeaIobdevrxQA',\n",
        "                     client_secret='ov2Vo_egu0VkJMkZGnqpJPwE07Yd9w',\n",
        "                     user_agent='script by u/Just-Improvement-880')\n",
        "\n",
        "# Access subreddit and fetch comments\n",
        "subreddit = reddit.subreddit('streetwear')\n",
        "comments = []\n",
        "for submission in subreddit.top(limit=10):\n",
        "    submission.comments.replace_more(limit=0)\n",
        "    for comment in submission.comments.list():\n",
        "        comments.append(comment.body)\n",
        "\n",
        "# Create DataFrame from the comments\n",
        "df = pd.DataFrame(comments, columns=['Comment'])\n",
        "\n",
        "# Extract age and location information from comments\n",
        "age_pattern = r'\\b(?:age|old|yo|years? old|turning)\\s*(\\d{1,2})\\b'\n",
        "location_pattern = r'\\b(?:location|hometown|reside|live in|from)\\s*[:,]?\\s*(\\b[A-Z][a-z]*(?:\\s+[A-Z][a-z]*)*(?:,\\s+[A-Z]{2})?)\\b'\n",
        "\n",
        "df['Age'] = df['Comment'].str.extract(age_pattern, flags=re.IGNORECASE)\n",
        "df['Location'] = df['Comment'].str.extract(location_pattern, flags=re.IGNORECASE)\n",
        "\n",
        "# Save DataFrame to Excel file\n",
        "file_path = '/content/drive/MyDrive/microfashion trend analysis through reddit/reddit_comments_with_age_location.xlsx'\n",
        "df.to_excel(file_path, index=False)\n"
      ],
      "metadata": {
        "colab": {
          "base_uri": "https://localhost:8080/"
        },
        "id": "0jc0PbcwDVP2",
        "outputId": "d926bc57-ace3-4a9b-e356-0a79fa25671e"
      },
      "execution_count": 50,
      "outputs": [
        {
          "output_type": "stream",
          "name": "stderr",
          "text": [
            "WARNING:praw:It appears that you are using PRAW in an asynchronous environment.\n",
            "It is strongly recommended to use Async PRAW: https://asyncpraw.readthedocs.io.\n",
            "See https://praw.readthedocs.io/en/latest/getting_started/multiple_instances.html#discord-bots-and-asynchronous-environments for more info.\n",
            "\n"
          ]
        },
        {
          "output_type": "stream",
          "name": "stdout",
          "text": [
            "Drive already mounted at /content/drive; to attempt to forcibly remount, call drive.mount(\"/content/drive\", force_remount=True).\n"
          ]
        },
        {
          "output_type": "stream",
          "name": "stderr",
          "text": [
            "WARNING:prawcore:Retrying due to ConnectionError(ProtocolError('Connection aborted.', RemoteDisconnected('Remote end closed connection without response'))) status: GET https://oauth.reddit.com/r/streetwear/top\n",
            "WARNING:praw:It appears that you are using PRAW in an asynchronous environment.\n",
            "It is strongly recommended to use Async PRAW: https://asyncpraw.readthedocs.io.\n",
            "See https://praw.readthedocs.io/en/latest/getting_started/multiple_instances.html#discord-bots-and-asynchronous-environments for more info.\n",
            "\n",
            "WARNING:praw:It appears that you are using PRAW in an asynchronous environment.\n",
            "It is strongly recommended to use Async PRAW: https://asyncpraw.readthedocs.io.\n",
            "See https://praw.readthedocs.io/en/latest/getting_started/multiple_instances.html#discord-bots-and-asynchronous-environments for more info.\n",
            "\n",
            "WARNING:praw:It appears that you are using PRAW in an asynchronous environment.\n",
            "It is strongly recommended to use Async PRAW: https://asyncpraw.readthedocs.io.\n",
            "See https://praw.readthedocs.io/en/latest/getting_started/multiple_instances.html#discord-bots-and-asynchronous-environments for more info.\n",
            "\n",
            "WARNING:praw:It appears that you are using PRAW in an asynchronous environment.\n",
            "It is strongly recommended to use Async PRAW: https://asyncpraw.readthedocs.io.\n",
            "See https://praw.readthedocs.io/en/latest/getting_started/multiple_instances.html#discord-bots-and-asynchronous-environments for more info.\n",
            "\n",
            "WARNING:praw:It appears that you are using PRAW in an asynchronous environment.\n",
            "It is strongly recommended to use Async PRAW: https://asyncpraw.readthedocs.io.\n",
            "See https://praw.readthedocs.io/en/latest/getting_started/multiple_instances.html#discord-bots-and-asynchronous-environments for more info.\n",
            "\n",
            "WARNING:praw:It appears that you are using PRAW in an asynchronous environment.\n",
            "It is strongly recommended to use Async PRAW: https://asyncpraw.readthedocs.io.\n",
            "See https://praw.readthedocs.io/en/latest/getting_started/multiple_instances.html#discord-bots-and-asynchronous-environments for more info.\n",
            "\n",
            "WARNING:praw:It appears that you are using PRAW in an asynchronous environment.\n",
            "It is strongly recommended to use Async PRAW: https://asyncpraw.readthedocs.io.\n",
            "See https://praw.readthedocs.io/en/latest/getting_started/multiple_instances.html#discord-bots-and-asynchronous-environments for more info.\n",
            "\n",
            "WARNING:praw:It appears that you are using PRAW in an asynchronous environment.\n",
            "It is strongly recommended to use Async PRAW: https://asyncpraw.readthedocs.io.\n",
            "See https://praw.readthedocs.io/en/latest/getting_started/multiple_instances.html#discord-bots-and-asynchronous-environments for more info.\n",
            "\n",
            "WARNING:praw:It appears that you are using PRAW in an asynchronous environment.\n",
            "It is strongly recommended to use Async PRAW: https://asyncpraw.readthedocs.io.\n",
            "See https://praw.readthedocs.io/en/latest/getting_started/multiple_instances.html#discord-bots-and-asynchronous-environments for more info.\n",
            "\n",
            "WARNING:praw:It appears that you are using PRAW in an asynchronous environment.\n",
            "It is strongly recommended to use Async PRAW: https://asyncpraw.readthedocs.io.\n",
            "See https://praw.readthedocs.io/en/latest/getting_started/multiple_instances.html#discord-bots-and-asynchronous-environments for more info.\n",
            "\n"
          ]
        }
      ]
    },
    {
      "cell_type": "code",
      "source": [
        "from google.colab import drive\n",
        "import praw\n",
        "import pandas as pd\n",
        "import re\n",
        "\n",
        "# Mount Google Drive\n",
        "drive.mount('/content/drive')\n",
        "\n",
        "# Initialize Reddit instance\n",
        "reddit = praw.Reddit(client_id='v8lmJTQnJUeaIobdevrxQA',\n",
        "                     client_secret='ov2Vo_egu0VkJMkZGnqpJPwE07Yd9w',\n",
        "                     user_agent='script by u/Just-Improvement-880')\n",
        "\n",
        "# Access subreddit and fetch comments\n",
        "subreddit = reddit.subreddit('streetwear')\n",
        "comments = []\n",
        "for submission in subreddit.top(limit=10):\n",
        "    submission.comments.replace_more(limit=0)\n",
        "    for comment in submission.comments.list():\n",
        "        comments.append(comment.body)\n",
        "\n",
        "# Create DataFrame from the comments\n",
        "df = pd.DataFrame(comments, columns=['Comment'])\n",
        "\n",
        "# Extract age and location information from comments\n",
        "age_pattern = r'\\b(?:age|old|yo|years? old|turning)\\s*(\\d{1,2})\\b'\n",
        "location_pattern = r'\\b(?:location|hometown|reside|live in|from)\\s*[:,]?\\s*(\\b[A-Z][a-z]*(?:\\s+[A-Z][a-z]*)*(?:,\\s+[A-Z]{2})?)\\b'\n",
        "\n",
        "df['Age'] = df['Comment'].str.extract(age_pattern, flags=re.IGNORECASE)\n",
        "df['Location'] = df['Comment'].str.extract(location_pattern, flags=re.IGNORECASE)\n",
        "\n",
        "# Save DataFrame to Excel file\n",
        "file_path = '/content/drive/MyDrive/microfashion trend analysis through reddit/reddit_comments_with_age_location.xlsx'\n",
        "df.to_excel(file_path, index=False)\n"
      ],
      "metadata": {
        "colab": {
          "base_uri": "https://localhost:8080/"
        },
        "id": "FyCxk7x4D7je",
        "outputId": "fff9a22c-d743-4e57-cc39-c3186172021e"
      },
      "execution_count": 51,
      "outputs": [
        {
          "output_type": "stream",
          "name": "stderr",
          "text": [
            "WARNING:praw:It appears that you are using PRAW in an asynchronous environment.\n",
            "It is strongly recommended to use Async PRAW: https://asyncpraw.readthedocs.io.\n",
            "See https://praw.readthedocs.io/en/latest/getting_started/multiple_instances.html#discord-bots-and-asynchronous-environments for more info.\n",
            "\n"
          ]
        },
        {
          "output_type": "stream",
          "name": "stdout",
          "text": [
            "Drive already mounted at /content/drive; to attempt to forcibly remount, call drive.mount(\"/content/drive\", force_remount=True).\n"
          ]
        },
        {
          "output_type": "stream",
          "name": "stderr",
          "text": [
            "WARNING:praw:It appears that you are using PRAW in an asynchronous environment.\n",
            "It is strongly recommended to use Async PRAW: https://asyncpraw.readthedocs.io.\n",
            "See https://praw.readthedocs.io/en/latest/getting_started/multiple_instances.html#discord-bots-and-asynchronous-environments for more info.\n",
            "\n",
            "WARNING:praw:It appears that you are using PRAW in an asynchronous environment.\n",
            "It is strongly recommended to use Async PRAW: https://asyncpraw.readthedocs.io.\n",
            "See https://praw.readthedocs.io/en/latest/getting_started/multiple_instances.html#discord-bots-and-asynchronous-environments for more info.\n",
            "\n",
            "WARNING:praw:It appears that you are using PRAW in an asynchronous environment.\n",
            "It is strongly recommended to use Async PRAW: https://asyncpraw.readthedocs.io.\n",
            "See https://praw.readthedocs.io/en/latest/getting_started/multiple_instances.html#discord-bots-and-asynchronous-environments for more info.\n",
            "\n",
            "WARNING:praw:It appears that you are using PRAW in an asynchronous environment.\n",
            "It is strongly recommended to use Async PRAW: https://asyncpraw.readthedocs.io.\n",
            "See https://praw.readthedocs.io/en/latest/getting_started/multiple_instances.html#discord-bots-and-asynchronous-environments for more info.\n",
            "\n",
            "WARNING:praw:It appears that you are using PRAW in an asynchronous environment.\n",
            "It is strongly recommended to use Async PRAW: https://asyncpraw.readthedocs.io.\n",
            "See https://praw.readthedocs.io/en/latest/getting_started/multiple_instances.html#discord-bots-and-asynchronous-environments for more info.\n",
            "\n",
            "WARNING:praw:It appears that you are using PRAW in an asynchronous environment.\n",
            "It is strongly recommended to use Async PRAW: https://asyncpraw.readthedocs.io.\n",
            "See https://praw.readthedocs.io/en/latest/getting_started/multiple_instances.html#discord-bots-and-asynchronous-environments for more info.\n",
            "\n",
            "WARNING:praw:It appears that you are using PRAW in an asynchronous environment.\n",
            "It is strongly recommended to use Async PRAW: https://asyncpraw.readthedocs.io.\n",
            "See https://praw.readthedocs.io/en/latest/getting_started/multiple_instances.html#discord-bots-and-asynchronous-environments for more info.\n",
            "\n",
            "WARNING:praw:It appears that you are using PRAW in an asynchronous environment.\n",
            "It is strongly recommended to use Async PRAW: https://asyncpraw.readthedocs.io.\n",
            "See https://praw.readthedocs.io/en/latest/getting_started/multiple_instances.html#discord-bots-and-asynchronous-environments for more info.\n",
            "\n",
            "WARNING:praw:It appears that you are using PRAW in an asynchronous environment.\n",
            "It is strongly recommended to use Async PRAW: https://asyncpraw.readthedocs.io.\n",
            "See https://praw.readthedocs.io/en/latest/getting_started/multiple_instances.html#discord-bots-and-asynchronous-environments for more info.\n",
            "\n",
            "WARNING:praw:It appears that you are using PRAW in an asynchronous environment.\n",
            "It is strongly recommended to use Async PRAW: https://asyncpraw.readthedocs.io.\n",
            "See https://praw.readthedocs.io/en/latest/getting_started/multiple_instances.html#discord-bots-and-asynchronous-environments for more info.\n",
            "\n"
          ]
        }
      ]
    },
    {
      "cell_type": "markdown",
      "source": [
        "#**Age Distribution of Reddit Users on the subreddit**#"
      ],
      "metadata": {
        "id": "YIzOZu9RPjJC"
      }
    },
    {
      "cell_type": "code",
      "source": [
        "import matplotlib.pyplot as plt\n",
        "\n",
        "# Read the updated Excel file with age and location information\n",
        "file_path = '/content/drive/MyDrive/microfashion trend analysis through reddit/reddit_comments_with_age_location.xlsx'\n",
        "df = pd.read_excel(file_path)\n",
        "\n",
        "# Data Visualization\n",
        "# Plot histogram for age distribution\n",
        "plt.figure(figsize=(8, 6))\n",
        "df['Age'] = pd.to_numeric(df['Age'], errors='coerce')  # Convert 'Age' column to numeric\n",
        "df['Age'].dropna().astype(int).hist(bins=range(0, 101, 10), color='skyblue', edgecolor='black', alpha=0.7)\n",
        "plt.title('Age Distribution of Reddit Users')\n",
        "plt.xlabel('Age')\n",
        "plt.ylabel('Frequency')\n",
        "plt.grid(axis='y')\n",
        "plt.show()\n",
        "\n",
        "\n"
      ],
      "metadata": {
        "colab": {
          "base_uri": "https://localhost:8080/",
          "height": 564
        },
        "id": "6z_2mzrJEc_Z",
        "outputId": "5db86793-6162-4826-b120-0c302f1cc793"
      },
      "execution_count": 74,
      "outputs": [
        {
          "output_type": "display_data",
          "data": {
            "text/plain": [
              "<Figure size 800x600 with 1 Axes>"
            ],
            "image/png": "[encoded data removed]"
          },
          "metadata": {}
        }
      ]
    },
    {
      "cell_type": "code",
      "source": [
        "import matplotlib.pyplot as plt\n",
        "\n",
        "# Read the updated Excel file with age and location information\n",
        "file_path = '/content/drive/MyDrive/microfashion trend analysis through reddit/reddit_comments_with_age_location.xlsx'\n",
        "df = pd.read_excel(file_path)\n",
        "\n",
        "# Data Analysis\n",
        "# Calculate summary statistics for age demographics\n",
        "mean_age = cleaned_data['Age'].mean()\n",
        "median_age = cleaned_data['Age'].median()\n",
        "mode_age = cleaned_data['Age'].mode().iloc[0]\n",
        "\n",
        "# Determine the frequency distribution of age groups\n",
        "age_bins = [10, 20, 30, 40, 50, 60, 70, 80, 90, 100]\n",
        "age_distribution = cleaned_data['Age'].groupby(pd.cut(cleaned_data['Age'], age_bins)).count()\n",
        "\n",
        "# Analyze location demographics\n",
        "top_locations = cleaned_data['Location'].value_counts().head(10)\n",
        "\n",
        "# Data Visualization\n",
        "# Plot histogram for age distribution\n",
        "plt.figure(figsize=(8, 6))\n",
        "plt.hist(cleaned_data['Age'], bins=age_bins, color='skyblue', edgecolor='black', alpha=0.7)\n",
        "plt.title('Age Distribution of Reddit Users')\n",
        "plt.xlabel('Age')\n",
        "plt.ylabel('Frequency')\n",
        "plt.grid(axis='y')\n",
        "plt.axvline(mean_age, color='red', linestyle='--', label=f'Mean Age: {mean_age:.2f}')\n",
        "plt.axvline(median_age, color='green', linestyle='--', label=f'Median Age: {median_age}')\n",
        "plt.axvline(mode_age, color='purple', linestyle='--', label=f'Mode Age: {mode_age}')\n",
        "plt.legend()\n",
        "plt.show()\n",
        "\n"
      ],
      "metadata": {
        "colab": {
          "base_uri": "https://localhost:8080/",
          "height": 564
        },
        "id": "-CWiRdmFFnyo",
        "outputId": "a1d824ff-f87f-4513-ffec-8edc7abcfbf3"
      },
      "execution_count": 60,
      "outputs": [
        {
          "output_type": "display_data",
          "data": {
            "text/plain": [
              "<Figure size 800x600 with 1 Axes>"
            ],
            "image/png": "[encoded data removed]"
          },
          "metadata": {}
        }
      ]
    },
    {
      "cell_type": "markdown",
      "source": [
        "#**Microfashion Trend Analysis**#"
      ],
      "metadata": {
        "id": "QQTjJNO-Pt-z"
      }
    },
    {
      "cell_type": "code",
      "source": [
        "import nltk\n",
        "from nltk.tokenize import word_tokenize\n",
        "from nltk.corpus import stopwords\n",
        "from collections import Counter\n",
        "import matplotlib.pyplot as plt\n",
        "\n",
        "# Read the updated Excel file with age and location information\n",
        "file_path = '/content/drive/MyDrive/microfashion trend analysis through reddit/reddit_comments_with_age_location.xlsx'\n",
        "df = pd.read_excel(file_path)\n",
        "\n",
        "# Tokenize words and remove stopwords\n",
        "nltk.download('punkt')\n",
        "nltk.download('stopwords')\n",
        "stop_words = set(stopwords.words('english'))\n",
        "\n",
        "# Join all comments into a single string\n",
        "all_comments = ' '.join(df['Comment'])\n",
        "\n",
        "# Tokenize the combined comments\n",
        "tokens = [word.lower() for word in word_tokenize(all_comments) if word.isalpha() and word.lower() not in stop_words]\n",
        "\n",
        "# Count word frequencies\n",
        "word_freq = Counter(tokens)\n",
        "\n",
        "# Get the most common words\n",
        "top_words = word_freq.most_common(20)\n",
        "\n",
        "# Plotting the top words\n",
        "plt.figure(figsize=(12, 8))\n",
        "plt.bar(*zip(*top_words))\n",
        "plt.xlabel('Words')\n",
        "plt.ylabel('Frequency')\n",
        "plt.title('Top 20 Most Common Words in Reddit Comments on Microfashion Trends')\n",
        "plt.xticks(rotation=45, ha='right')\n",
        "plt.tight_layout()\n",
        "plt.show()\n"
      ],
      "metadata": {
        "colab": {
          "base_uri": "https://localhost:8080/",
          "height": 876
        },
        "id": "4raY4TLOKOs6",
        "outputId": "16f11ae8-57f4-4d32-9bda-1bd1a5b21f41"
      },
      "execution_count": 75,
      "outputs": [
        {
          "output_type": "stream",
          "name": "stderr",
          "text": [
            "[nltk_data] Downloading package punkt to /root/nltk_data...\n",
            "[nltk_data]   Package punkt is already up-to-date!\n",
            "[nltk_data] Downloading package stopwords to /root/nltk_data...\n",
            "[nltk_data]   Package stopwords is already up-to-date!\n"
          ]
        },
        {
          "output_type": "display_data",
          "data": {
            "text/plain": [
              "<Figure size 1200x800 with 1 Axes>"
            ],
            "image/png": "[encoded data removed]"
          },
          "metadata": {}
        }
      ]
    }
  ]
}